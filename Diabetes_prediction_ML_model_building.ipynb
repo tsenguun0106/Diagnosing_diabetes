{
 "cells": [
  {
   "cell_type": "code",
   "execution_count": 135,
   "metadata": {},
   "outputs": [],
   "source": [
    "import pandas as pd\n",
    "import numpy as np\n",
    "from sklearn.linear_model import LogisticRegression\n",
    "from sklearn.preprocessing import OneHotEncoder\n",
    "import os\n",
    "import matplotlib.pyplot as plt\n",
    "import seaborn as sns"
   ]
  },
  {
   "cell_type": "markdown",
   "metadata": {},
   "source": [
    "**Here, I load the main datasets for training and testing. There are 8 columns:**\n",
    "1. id - identification number for the person\n",
    "2. cholesterol - cholesterol level\n",
    "3. gluc - glucose level\n",
    "4. smoke - dummy variable for smoking or not\n",
    "5. alco - dummy variable for alcohol drinking or not\n",
    "6. active - dummy variable for actively doing physical activities or not\n",
    "7. pressure - high and low blood pressure measures\n",
    "8. diabetes - dummy variable for whether a person has diabetes or not\n"
   ]
  },
  {
   "cell_type": "code",
   "execution_count": 136,
   "metadata": {},
   "outputs": [
    {
     "data": {
      "text/html": [
       "<div>\n",
       "<style scoped>\n",
       "    .dataframe tbody tr th:only-of-type {\n",
       "        vertical-align: middle;\n",
       "    }\n",
       "\n",
       "    .dataframe tbody tr th {\n",
       "        vertical-align: top;\n",
       "    }\n",
       "\n",
       "    .dataframe thead th {\n",
       "        text-align: right;\n",
       "    }\n",
       "</style>\n",
       "<table border=\"1\" class=\"dataframe\">\n",
       "  <thead>\n",
       "    <tr style=\"text-align: right;\">\n",
       "      <th></th>\n",
       "      <th>id</th>\n",
       "      <th>cholesterol</th>\n",
       "      <th>gluc</th>\n",
       "      <th>smoke</th>\n",
       "      <th>alco</th>\n",
       "      <th>active</th>\n",
       "      <th>pressure</th>\n",
       "      <th>diabetes</th>\n",
       "    </tr>\n",
       "  </thead>\n",
       "  <tbody>\n",
       "    <tr>\n",
       "      <th>0</th>\n",
       "      <td>56041</td>\n",
       "      <td>low</td>\n",
       "      <td>low</td>\n",
       "      <td>0</td>\n",
       "      <td>0</td>\n",
       "      <td>1</td>\n",
       "      <td>120/80</td>\n",
       "      <td>0</td>\n",
       "    </tr>\n",
       "    <tr>\n",
       "      <th>1</th>\n",
       "      <td>83393</td>\n",
       "      <td>low</td>\n",
       "      <td>low</td>\n",
       "      <td>0</td>\n",
       "      <td>0</td>\n",
       "      <td>1</td>\n",
       "      <td>120/80</td>\n",
       "      <td>0</td>\n",
       "    </tr>\n",
       "    <tr>\n",
       "      <th>2</th>\n",
       "      <td>29416</td>\n",
       "      <td>high</td>\n",
       "      <td>high</td>\n",
       "      <td>1</td>\n",
       "      <td>0</td>\n",
       "      <td>0</td>\n",
       "      <td>160/110</td>\n",
       "      <td>1</td>\n",
       "    </tr>\n",
       "    <tr>\n",
       "      <th>3</th>\n",
       "      <td>55191</td>\n",
       "      <td>low</td>\n",
       "      <td>low</td>\n",
       "      <td>0</td>\n",
       "      <td>0</td>\n",
       "      <td>1</td>\n",
       "      <td>100/70</td>\n",
       "      <td>0</td>\n",
       "    </tr>\n",
       "    <tr>\n",
       "      <th>4</th>\n",
       "      <td>42861</td>\n",
       "      <td>low</td>\n",
       "      <td>low</td>\n",
       "      <td>0</td>\n",
       "      <td>0</td>\n",
       "      <td>1</td>\n",
       "      <td>130/80</td>\n",
       "      <td>0</td>\n",
       "    </tr>\n",
       "  </tbody>\n",
       "</table>\n",
       "</div>"
      ],
      "text/plain": [
       "      id cholesterol  gluc  smoke  alco  active pressure  diabetes\n",
       "0  56041         low   low      0     0       1   120/80         0\n",
       "1  83393         low   low      0     0       1   120/80         0\n",
       "2  29416        high  high      1     0       0  160/110         1\n",
       "3  55191         low   low      0     0       1   100/70         0\n",
       "4  42861         low   low      0     0       1   130/80         0"
      ]
     },
     "execution_count": 136,
     "metadata": {},
     "output_type": "execute_result"
    }
   ],
   "source": [
    "diabetes_train = pd.read_csv( \"C:/Users/Tsenguunn/Documents/Toptal/diabetes_train_analysis.csv\", sep=\",\" )\n",
    "diabetes_test = pd.read_csv( \"C:/Users/Tsenguunn/Documents/Toptal/diabetes_test_analysis.csv\", sep=\",\" )\n",
    "\n",
    "diabetes_train.head()"
   ]
  },
  {
   "cell_type": "markdown",
   "metadata": {},
   "source": [
    "**Here, I create one-hot-encoding dummy variables for the cholesterol level labels.**"
   ]
  },
  {
   "cell_type": "code",
   "execution_count": 137,
   "metadata": {},
   "outputs": [
    {
     "data": {
      "text/html": [
       "<div>\n",
       "<style scoped>\n",
       "    .dataframe tbody tr th:only-of-type {\n",
       "        vertical-align: middle;\n",
       "    }\n",
       "\n",
       "    .dataframe tbody tr th {\n",
       "        vertical-align: top;\n",
       "    }\n",
       "\n",
       "    .dataframe thead th {\n",
       "        text-align: right;\n",
       "    }\n",
       "</style>\n",
       "<table border=\"1\" class=\"dataframe\">\n",
       "  <thead>\n",
       "    <tr style=\"text-align: right;\">\n",
       "      <th></th>\n",
       "      <th>id</th>\n",
       "      <th>cholesterol</th>\n",
       "      <th>gluc</th>\n",
       "      <th>smoke</th>\n",
       "      <th>alco</th>\n",
       "      <th>active</th>\n",
       "      <th>pressure</th>\n",
       "      <th>diabetes</th>\n",
       "      <th>chol_low</th>\n",
       "      <th>chol_high</th>\n",
       "      <th>chol_medium</th>\n",
       "    </tr>\n",
       "  </thead>\n",
       "  <tbody>\n",
       "    <tr>\n",
       "      <th>0</th>\n",
       "      <td>56041</td>\n",
       "      <td>low</td>\n",
       "      <td>low</td>\n",
       "      <td>0</td>\n",
       "      <td>0</td>\n",
       "      <td>1</td>\n",
       "      <td>120/80</td>\n",
       "      <td>0</td>\n",
       "      <td>1.0</td>\n",
       "      <td>0.0</td>\n",
       "      <td>0.0</td>\n",
       "    </tr>\n",
       "    <tr>\n",
       "      <th>1</th>\n",
       "      <td>83393</td>\n",
       "      <td>low</td>\n",
       "      <td>low</td>\n",
       "      <td>0</td>\n",
       "      <td>0</td>\n",
       "      <td>1</td>\n",
       "      <td>120/80</td>\n",
       "      <td>0</td>\n",
       "      <td>1.0</td>\n",
       "      <td>0.0</td>\n",
       "      <td>0.0</td>\n",
       "    </tr>\n",
       "    <tr>\n",
       "      <th>2</th>\n",
       "      <td>29416</td>\n",
       "      <td>high</td>\n",
       "      <td>high</td>\n",
       "      <td>1</td>\n",
       "      <td>0</td>\n",
       "      <td>0</td>\n",
       "      <td>160/110</td>\n",
       "      <td>1</td>\n",
       "      <td>0.0</td>\n",
       "      <td>1.0</td>\n",
       "      <td>0.0</td>\n",
       "    </tr>\n",
       "    <tr>\n",
       "      <th>3</th>\n",
       "      <td>55191</td>\n",
       "      <td>low</td>\n",
       "      <td>low</td>\n",
       "      <td>0</td>\n",
       "      <td>0</td>\n",
       "      <td>1</td>\n",
       "      <td>100/70</td>\n",
       "      <td>0</td>\n",
       "      <td>1.0</td>\n",
       "      <td>0.0</td>\n",
       "      <td>0.0</td>\n",
       "    </tr>\n",
       "    <tr>\n",
       "      <th>4</th>\n",
       "      <td>42861</td>\n",
       "      <td>low</td>\n",
       "      <td>low</td>\n",
       "      <td>0</td>\n",
       "      <td>0</td>\n",
       "      <td>1</td>\n",
       "      <td>130/80</td>\n",
       "      <td>0</td>\n",
       "      <td>1.0</td>\n",
       "      <td>0.0</td>\n",
       "      <td>0.0</td>\n",
       "    </tr>\n",
       "  </tbody>\n",
       "</table>\n",
       "</div>"
      ],
      "text/plain": [
       "      id cholesterol  gluc  smoke  alco  active pressure  diabetes  chol_low  \\\n",
       "0  56041         low   low      0     0       1   120/80         0       1.0   \n",
       "1  83393         low   low      0     0       1   120/80         0       1.0   \n",
       "2  29416        high  high      1     0       0  160/110         1       0.0   \n",
       "3  55191         low   low      0     0       1   100/70         0       1.0   \n",
       "4  42861         low   low      0     0       1   130/80         0       1.0   \n",
       "\n",
       "   chol_high  chol_medium  \n",
       "0        0.0          0.0  \n",
       "1        0.0          0.0  \n",
       "2        1.0          0.0  \n",
       "3        0.0          0.0  \n",
       "4        0.0          0.0  "
      ]
     },
     "execution_count": 137,
     "metadata": {},
     "output_type": "execute_result"
    }
   ],
   "source": [
    "chol_value_list = diabetes_train['gluc'].unique()\n",
    "\n",
    "diabetes_train['chol_low'] = ( diabetes_train['cholesterol'] == 'low' ).astype(float)\n",
    "diabetes_train['chol_high'] = ( diabetes_train['cholesterol'] == 'high' ).astype(float)\n",
    "diabetes_train['chol_medium'] = ( diabetes_train['cholesterol'] == 'medium' ).astype(float)\n",
    "\n",
    "diabetes_test['chol_low'] = ( diabetes_test['cholesterol'] == 'low' ).astype(float)\n",
    "diabetes_test['chol_high'] = ( diabetes_test['cholesterol'] == 'high' ).astype(float)\n",
    "diabetes_test['chol_medium'] = ( diabetes_test['cholesterol'] == 'medium' ).astype(float)\n",
    "\n",
    "diabetes_train.head()"
   ]
  },
  {
   "cell_type": "markdown",
   "metadata": {},
   "source": [
    "**Also, we can create a function that creates one-hot-encoding dummy variables from the categorical variable and append them to the existing dataframe.**"
   ]
  },
  {
   "cell_type": "code",
   "execution_count": 138,
   "metadata": {},
   "outputs": [],
   "source": [
    "def one_hot_encoder( df, col_name, cat_values ):\n",
    "    \n",
    "    for i in list(cat_values):\n",
    "        \n",
    "        df[f\"{col_name}_{i}\"] = ( df[col_name] == i ).astype(float)\n",
    "        \n",
    "    return df"
   ]
  },
  {
   "cell_type": "markdown",
   "metadata": {},
   "source": [
    "**Using this function, I created one-hot-encoding dummy variables for the glucose level label.**"
   ]
  },
  {
   "cell_type": "code",
   "execution_count": 139,
   "metadata": {},
   "outputs": [],
   "source": [
    "diabetes_train['gluc_low'] = ( diabetes_train['gluc'] == 'low' ).astype(float)\n",
    "diabetes_train['gluc_high'] = ( diabetes_train['gluc'] == 'high' ).astype(float)\n",
    "diabetes_train['gluc_medium'] = ( diabetes_train['gluc'] == 'medium' ).astype(float)\n",
    "\n",
    "diabetes_test['gluc_low'] = ( diabetes_test['gluc'] == 'low' ).astype(float)\n",
    "diabetes_test['gluc_high'] = ( diabetes_test['gluc'] == 'high' ).astype(float)\n",
    "diabetes_test['gluc_medium'] = ( diabetes_test['gluc'] == 'medium' ).astype(float)"
   ]
  },
  {
   "cell_type": "markdown",
   "metadata": {},
   "source": [
    "**As we can from above table, high and low blood pressure measures are expressed in column. And they are separated by \"/\" character. Below, I separated them using the lambda function and created two columns for high and low blood pressure measures.**"
   ]
  },
  {
   "cell_type": "code",
   "execution_count": 140,
   "metadata": {},
   "outputs": [
    {
     "data": {
      "text/html": [
       "<div>\n",
       "<style scoped>\n",
       "    .dataframe tbody tr th:only-of-type {\n",
       "        vertical-align: middle;\n",
       "    }\n",
       "\n",
       "    .dataframe tbody tr th {\n",
       "        vertical-align: top;\n",
       "    }\n",
       "\n",
       "    .dataframe thead th {\n",
       "        text-align: right;\n",
       "    }\n",
       "</style>\n",
       "<table border=\"1\" class=\"dataframe\">\n",
       "  <thead>\n",
       "    <tr style=\"text-align: right;\">\n",
       "      <th></th>\n",
       "      <th>id</th>\n",
       "      <th>cholesterol</th>\n",
       "      <th>gluc</th>\n",
       "      <th>smoke</th>\n",
       "      <th>alco</th>\n",
       "      <th>active</th>\n",
       "      <th>pressure</th>\n",
       "      <th>diabetes</th>\n",
       "      <th>chol_low</th>\n",
       "      <th>chol_high</th>\n",
       "      <th>chol_medium</th>\n",
       "      <th>gluc_low</th>\n",
       "      <th>gluc_high</th>\n",
       "      <th>gluc_medium</th>\n",
       "      <th>press_high</th>\n",
       "      <th>press_low</th>\n",
       "    </tr>\n",
       "  </thead>\n",
       "  <tbody>\n",
       "    <tr>\n",
       "      <th>0</th>\n",
       "      <td>56041</td>\n",
       "      <td>low</td>\n",
       "      <td>low</td>\n",
       "      <td>0</td>\n",
       "      <td>0</td>\n",
       "      <td>1</td>\n",
       "      <td>120/80</td>\n",
       "      <td>0</td>\n",
       "      <td>1.0</td>\n",
       "      <td>0.0</td>\n",
       "      <td>0.0</td>\n",
       "      <td>1.0</td>\n",
       "      <td>0.0</td>\n",
       "      <td>0.0</td>\n",
       "      <td>120.0</td>\n",
       "      <td>80.0</td>\n",
       "    </tr>\n",
       "    <tr>\n",
       "      <th>1</th>\n",
       "      <td>83393</td>\n",
       "      <td>low</td>\n",
       "      <td>low</td>\n",
       "      <td>0</td>\n",
       "      <td>0</td>\n",
       "      <td>1</td>\n",
       "      <td>120/80</td>\n",
       "      <td>0</td>\n",
       "      <td>1.0</td>\n",
       "      <td>0.0</td>\n",
       "      <td>0.0</td>\n",
       "      <td>1.0</td>\n",
       "      <td>0.0</td>\n",
       "      <td>0.0</td>\n",
       "      <td>120.0</td>\n",
       "      <td>80.0</td>\n",
       "    </tr>\n",
       "    <tr>\n",
       "      <th>2</th>\n",
       "      <td>29416</td>\n",
       "      <td>high</td>\n",
       "      <td>high</td>\n",
       "      <td>1</td>\n",
       "      <td>0</td>\n",
       "      <td>0</td>\n",
       "      <td>160/110</td>\n",
       "      <td>1</td>\n",
       "      <td>0.0</td>\n",
       "      <td>1.0</td>\n",
       "      <td>0.0</td>\n",
       "      <td>0.0</td>\n",
       "      <td>1.0</td>\n",
       "      <td>0.0</td>\n",
       "      <td>160.0</td>\n",
       "      <td>110.0</td>\n",
       "    </tr>\n",
       "    <tr>\n",
       "      <th>3</th>\n",
       "      <td>55191</td>\n",
       "      <td>low</td>\n",
       "      <td>low</td>\n",
       "      <td>0</td>\n",
       "      <td>0</td>\n",
       "      <td>1</td>\n",
       "      <td>100/70</td>\n",
       "      <td>0</td>\n",
       "      <td>1.0</td>\n",
       "      <td>0.0</td>\n",
       "      <td>0.0</td>\n",
       "      <td>1.0</td>\n",
       "      <td>0.0</td>\n",
       "      <td>0.0</td>\n",
       "      <td>100.0</td>\n",
       "      <td>70.0</td>\n",
       "    </tr>\n",
       "    <tr>\n",
       "      <th>4</th>\n",
       "      <td>42861</td>\n",
       "      <td>low</td>\n",
       "      <td>low</td>\n",
       "      <td>0</td>\n",
       "      <td>0</td>\n",
       "      <td>1</td>\n",
       "      <td>130/80</td>\n",
       "      <td>0</td>\n",
       "      <td>1.0</td>\n",
       "      <td>0.0</td>\n",
       "      <td>0.0</td>\n",
       "      <td>1.0</td>\n",
       "      <td>0.0</td>\n",
       "      <td>0.0</td>\n",
       "      <td>130.0</td>\n",
       "      <td>80.0</td>\n",
       "    </tr>\n",
       "  </tbody>\n",
       "</table>\n",
       "</div>"
      ],
      "text/plain": [
       "      id cholesterol  gluc  smoke  alco  active pressure  diabetes  chol_low  \\\n",
       "0  56041         low   low      0     0       1   120/80         0       1.0   \n",
       "1  83393         low   low      0     0       1   120/80         0       1.0   \n",
       "2  29416        high  high      1     0       0  160/110         1       0.0   \n",
       "3  55191         low   low      0     0       1   100/70         0       1.0   \n",
       "4  42861         low   low      0     0       1   130/80         0       1.0   \n",
       "\n",
       "   chol_high  chol_medium  gluc_low  gluc_high  gluc_medium  press_high  \\\n",
       "0        0.0          0.0       1.0        0.0          0.0       120.0   \n",
       "1        0.0          0.0       1.0        0.0          0.0       120.0   \n",
       "2        1.0          0.0       0.0        1.0          0.0       160.0   \n",
       "3        0.0          0.0       1.0        0.0          0.0       100.0   \n",
       "4        0.0          0.0       1.0        0.0          0.0       130.0   \n",
       "\n",
       "   press_low  \n",
       "0       80.0  \n",
       "1       80.0  \n",
       "2      110.0  \n",
       "3       70.0  \n",
       "4       80.0  "
      ]
     },
     "execution_count": 140,
     "metadata": {},
     "output_type": "execute_result"
    }
   ],
   "source": [
    "diabetes_train['press_high'] = diabetes_train['pressure'].apply( lambda x: x.split(\"/\")[0] ).astype(float)\n",
    "diabetes_test['press_high'] = diabetes_test['pressure'].apply( lambda x: x.split(\"/\")[0] ).astype(float)\n",
    "\n",
    "diabetes_train['press_low'] = diabetes_train['pressure'].apply( lambda x: x.split(\"/\")[1] ).astype(float)\n",
    "diabetes_test['press_low'] = diabetes_test['pressure'].apply( lambda x: x.split(\"/\")[1] ).astype(float)\n",
    "\n",
    "diabetes_train.head()"
   ]
  },
  {
   "cell_type": "code",
   "execution_count": 141,
   "metadata": {},
   "outputs": [
    {
     "data": {
      "text/html": [
       "<div>\n",
       "<style scoped>\n",
       "    .dataframe tbody tr th:only-of-type {\n",
       "        vertical-align: middle;\n",
       "    }\n",
       "\n",
       "    .dataframe tbody tr th {\n",
       "        vertical-align: top;\n",
       "    }\n",
       "\n",
       "    .dataframe thead th {\n",
       "        text-align: right;\n",
       "    }\n",
       "</style>\n",
       "<table border=\"1\" class=\"dataframe\">\n",
       "  <thead>\n",
       "    <tr style=\"text-align: right;\">\n",
       "      <th></th>\n",
       "      <th>id</th>\n",
       "      <th>cholesterol</th>\n",
       "      <th>gluc</th>\n",
       "      <th>smoke</th>\n",
       "      <th>alco</th>\n",
       "      <th>active</th>\n",
       "      <th>pressure</th>\n",
       "      <th>diabetes</th>\n",
       "      <th>chol_low</th>\n",
       "      <th>chol_high</th>\n",
       "      <th>chol_medium</th>\n",
       "      <th>gluc_low</th>\n",
       "      <th>gluc_high</th>\n",
       "      <th>gluc_medium</th>\n",
       "      <th>press_high</th>\n",
       "      <th>press_low</th>\n",
       "      <th>diabetes_label</th>\n",
       "    </tr>\n",
       "  </thead>\n",
       "  <tbody>\n",
       "    <tr>\n",
       "      <th>0</th>\n",
       "      <td>56041</td>\n",
       "      <td>low</td>\n",
       "      <td>low</td>\n",
       "      <td>0</td>\n",
       "      <td>0</td>\n",
       "      <td>1</td>\n",
       "      <td>120/80</td>\n",
       "      <td>0</td>\n",
       "      <td>1.0</td>\n",
       "      <td>0.0</td>\n",
       "      <td>0.0</td>\n",
       "      <td>1.0</td>\n",
       "      <td>0.0</td>\n",
       "      <td>0.0</td>\n",
       "      <td>120.0</td>\n",
       "      <td>80.0</td>\n",
       "      <td>non-diabetic</td>\n",
       "    </tr>\n",
       "    <tr>\n",
       "      <th>1</th>\n",
       "      <td>83393</td>\n",
       "      <td>low</td>\n",
       "      <td>low</td>\n",
       "      <td>0</td>\n",
       "      <td>0</td>\n",
       "      <td>1</td>\n",
       "      <td>120/80</td>\n",
       "      <td>0</td>\n",
       "      <td>1.0</td>\n",
       "      <td>0.0</td>\n",
       "      <td>0.0</td>\n",
       "      <td>1.0</td>\n",
       "      <td>0.0</td>\n",
       "      <td>0.0</td>\n",
       "      <td>120.0</td>\n",
       "      <td>80.0</td>\n",
       "      <td>non-diabetic</td>\n",
       "    </tr>\n",
       "    <tr>\n",
       "      <th>2</th>\n",
       "      <td>29416</td>\n",
       "      <td>high</td>\n",
       "      <td>high</td>\n",
       "      <td>1</td>\n",
       "      <td>0</td>\n",
       "      <td>0</td>\n",
       "      <td>160/110</td>\n",
       "      <td>1</td>\n",
       "      <td>0.0</td>\n",
       "      <td>1.0</td>\n",
       "      <td>0.0</td>\n",
       "      <td>0.0</td>\n",
       "      <td>1.0</td>\n",
       "      <td>0.0</td>\n",
       "      <td>160.0</td>\n",
       "      <td>110.0</td>\n",
       "      <td>diabetic</td>\n",
       "    </tr>\n",
       "    <tr>\n",
       "      <th>3</th>\n",
       "      <td>55191</td>\n",
       "      <td>low</td>\n",
       "      <td>low</td>\n",
       "      <td>0</td>\n",
       "      <td>0</td>\n",
       "      <td>1</td>\n",
       "      <td>100/70</td>\n",
       "      <td>0</td>\n",
       "      <td>1.0</td>\n",
       "      <td>0.0</td>\n",
       "      <td>0.0</td>\n",
       "      <td>1.0</td>\n",
       "      <td>0.0</td>\n",
       "      <td>0.0</td>\n",
       "      <td>100.0</td>\n",
       "      <td>70.0</td>\n",
       "      <td>non-diabetic</td>\n",
       "    </tr>\n",
       "    <tr>\n",
       "      <th>4</th>\n",
       "      <td>42861</td>\n",
       "      <td>low</td>\n",
       "      <td>low</td>\n",
       "      <td>0</td>\n",
       "      <td>0</td>\n",
       "      <td>1</td>\n",
       "      <td>130/80</td>\n",
       "      <td>0</td>\n",
       "      <td>1.0</td>\n",
       "      <td>0.0</td>\n",
       "      <td>0.0</td>\n",
       "      <td>1.0</td>\n",
       "      <td>0.0</td>\n",
       "      <td>0.0</td>\n",
       "      <td>130.0</td>\n",
       "      <td>80.0</td>\n",
       "      <td>non-diabetic</td>\n",
       "    </tr>\n",
       "  </tbody>\n",
       "</table>\n",
       "</div>"
      ],
      "text/plain": [
       "      id cholesterol  gluc  smoke  alco  active pressure  diabetes  chol_low  \\\n",
       "0  56041         low   low      0     0       1   120/80         0       1.0   \n",
       "1  83393         low   low      0     0       1   120/80         0       1.0   \n",
       "2  29416        high  high      1     0       0  160/110         1       0.0   \n",
       "3  55191         low   low      0     0       1   100/70         0       1.0   \n",
       "4  42861         low   low      0     0       1   130/80         0       1.0   \n",
       "\n",
       "   chol_high  chol_medium  gluc_low  gluc_high  gluc_medium  press_high  \\\n",
       "0        0.0          0.0       1.0        0.0          0.0       120.0   \n",
       "1        0.0          0.0       1.0        0.0          0.0       120.0   \n",
       "2        1.0          0.0       0.0        1.0          0.0       160.0   \n",
       "3        0.0          0.0       1.0        0.0          0.0       100.0   \n",
       "4        0.0          0.0       1.0        0.0          0.0       130.0   \n",
       "\n",
       "   press_low diabetes_label  \n",
       "0       80.0   non-diabetic  \n",
       "1       80.0   non-diabetic  \n",
       "2      110.0       diabetic  \n",
       "3       70.0   non-diabetic  \n",
       "4       80.0   non-diabetic  "
      ]
     },
     "execution_count": 141,
     "metadata": {},
     "output_type": "execute_result"
    }
   ],
   "source": [
    "diabetes_train['diabetes_label'] = 'diabetic'\n",
    "diabetes_train.loc[ diabetes_train['diabetes']==0, 'diabetes_label' ] = 'non-diabetic'\n",
    "\n",
    "diabetes_train.head()"
   ]
  },
  {
   "cell_type": "code",
   "execution_count": null,
   "metadata": {},
   "outputs": [],
   "source": []
  },
  {
   "cell_type": "code",
   "execution_count": null,
   "metadata": {},
   "outputs": [],
   "source": []
  },
  {
   "cell_type": "markdown",
   "metadata": {},
   "source": [
    "**High blood pressure of people with diabetes ranges from 120 to 150 (25th to 75th percentiles).**"
   ]
  },
  {
   "cell_type": "code",
   "execution_count": 142,
   "metadata": {},
   "outputs": [
    {
     "data": {
      "text/plain": [
       "count    14958.000000\n",
       "mean       137.948790\n",
       "std        156.618273\n",
       "min       -120.000000\n",
       "25%        120.000000\n",
       "50%        130.000000\n",
       "75%        150.000000\n",
       "max      14020.000000\n",
       "Name: press_high, dtype: float64"
      ]
     },
     "execution_count": 142,
     "metadata": {},
     "output_type": "execute_result"
    }
   ],
   "source": [
    "diabetes_train.loc[ diabetes_train['diabetes']==1, 'press_high' ].describe()"
   ]
  },
  {
   "cell_type": "markdown",
   "metadata": {},
   "source": [
    "**High blood pressure of people without diabetes ranges from 120 to 130 (25th to 75th percentiles).**"
   ]
  },
  {
   "cell_type": "code",
   "execution_count": 143,
   "metadata": {},
   "outputs": [
    {
     "data": {
      "text/plain": [
       "count    45042.000000\n",
       "mean       126.136339\n",
       "std        168.759377\n",
       "min       -150.000000\n",
       "25%        120.000000\n",
       "50%        120.000000\n",
       "75%        130.000000\n",
       "max      16020.000000\n",
       "Name: press_high, dtype: float64"
      ]
     },
     "execution_count": 143,
     "metadata": {},
     "output_type": "execute_result"
    }
   ],
   "source": [
    "diabetes_train.loc[ diabetes_train['diabetes']==0, 'press_high' ].describe()"
   ]
  },
  {
   "cell_type": "markdown",
   "metadata": {},
   "source": [
    "**From the below boxplots, we can see that people with diabetes tend to have a greater high blood pressure than people without diabetes.**"
   ]
  },
  {
   "cell_type": "code",
   "execution_count": 144,
   "metadata": {},
   "outputs": [
    {
     "data": {
      "text/plain": [
       "<AxesSubplot:xlabel='press_high', ylabel='diabetes_label'>"
      ]
     },
     "execution_count": 144,
     "metadata": {},
     "output_type": "execute_result"
    },
    {
     "data": {
      "image/png": "[encoded data removed]",
      "text/plain": [
       "<Figure size 640x480 with 1 Axes>"
      ]
     },
     "metadata": {},
     "output_type": "display_data"
    }
   ],
   "source": [
    "sns.boxplot(y=diabetes_train.loc[ (diabetes_train['press_high'] > 50) & (diabetes_train['press_high'] < 200), 'diabetes_label' ], x=diabetes_train.loc[ (diabetes_train['press_high'] > 50) & (diabetes_train['press_high'] < 200), 'press_high' ])"
   ]
  },
  {
   "cell_type": "code",
   "execution_count": null,
   "metadata": {},
   "outputs": [],
   "source": []
  },
  {
   "cell_type": "markdown",
   "metadata": {},
   "source": [
    "**Low blood pressure of people with diabetes ranges from 80 to 90 (25th to 75th percentiles).**"
   ]
  },
  {
   "cell_type": "code",
   "execution_count": 145,
   "metadata": {},
   "outputs": [
    {
     "data": {
      "text/plain": [
       "count    14958.000000\n",
       "mean       147.198155\n",
       "std        375.753602\n",
       "min         40.000000\n",
       "25%         80.000000\n",
       "50%         90.000000\n",
       "75%         90.000000\n",
       "max      11000.000000\n",
       "Name: press_low, dtype: float64"
      ]
     },
     "execution_count": 145,
     "metadata": {},
     "output_type": "execute_result"
    }
   ],
   "source": [
    "diabetes_train.loc[ diabetes_train['diabetes']==1, 'press_low' ].describe()"
   ]
  },
  {
   "cell_type": "markdown",
   "metadata": {},
   "source": [
    "**Low blood pressure of people concentrates around 80 (25th to 75th percentiles).**"
   ]
  },
  {
   "cell_type": "code",
   "execution_count": 146,
   "metadata": {},
   "outputs": [
    {
     "data": {
      "text/plain": [
       "count    45042.000000\n",
       "mean        79.695196\n",
       "std          9.120448\n",
       "min          0.000000\n",
       "25%         80.000000\n",
       "50%         80.000000\n",
       "75%         80.000000\n",
       "max        160.000000\n",
       "Name: press_low, dtype: float64"
      ]
     },
     "execution_count": 146,
     "metadata": {},
     "output_type": "execute_result"
    }
   ],
   "source": [
    "diabetes_train.loc[ diabetes_train['diabetes']==0, 'press_low' ].describe()"
   ]
  },
  {
   "cell_type": "markdown",
   "metadata": {},
   "source": [
    "**From the below boxplots, we can see that people with diabetes tend to have a greater low blood pressure than people without diabetes.**"
   ]
  },
  {
   "cell_type": "code",
   "execution_count": 147,
   "metadata": {},
   "outputs": [
    {
     "data": {
      "text/plain": [
       "<AxesSubplot:xlabel='press_low', ylabel='diabetes_label'>"
      ]
     },
     "execution_count": 147,
     "metadata": {},
     "output_type": "execute_result"
    },
    {
     "data": {
      "image/png": "[encoded data removed]",
      "text/plain": [
       "<Figure size 640x480 with 1 Axes>"
      ]
     },
     "metadata": {},
     "output_type": "display_data"
    }
   ],
   "source": [
    "sns.boxplot(y=diabetes_train.loc[ (diabetes_train['press_low'] > 50) & (diabetes_train['press_low'] < 150), 'diabetes_label' ], x=diabetes_train.loc[ (diabetes_train['press_low'] > 50) & (diabetes_train['press_low'] < 150), 'press_low' ])"
   ]
  },
  {
   "cell_type": "code",
   "execution_count": null,
   "metadata": {},
   "outputs": [],
   "source": []
  },
  {
   "cell_type": "markdown",
   "metadata": {},
   "source": [
    "**Below, I plot the alcohol consumption rates for diabetic and non-diabetic people. It shows that there exists a slightly higher alcohol consumption rate among diabetic people.**"
   ]
  },
  {
   "cell_type": "code",
   "execution_count": 228,
   "metadata": {},
   "outputs": [
    {
     "data": {
      "image/png": "[encoded data removed]",
      "text/plain": [
       "<Figure size 800x600 with 2 Axes>"
      ]
     },
     "metadata": {},
     "output_type": "display_data"
    }
   ],
   "source": [
    "diabetes_train['alco_label'] = 'alcohol_consuming'\n",
    "diabetes_train.loc[ diabetes_train['alco'] == 0, 'alco_label' ] = 'alcohol_not_consuming'\n",
    "\n",
    "fig, (ax1, ax2) = plt.subplots(nrows=2, figsize=(8, 6))\n",
    "diabetes_train.loc[ diabetes_train['diabetes']==0, : ].groupby('alco_label').size().plot(kind='pie', autopct=\"%1.1f%%\", textprops={'fontsize': 12},\n",
    "                                  colors=['tomato', 'gold'], ax=ax1)\n",
    "diabetes_train.loc[ diabetes_train['diabetes']==1, : ].groupby('alco_label').size().plot(kind='pie', autopct=\"%1.1f%%\", textprops={'fontsize': 12},\n",
    "                                 colors=['violet', 'lime'], ax=ax2)\n",
    "fig.suptitle('Alcohol consumption rate', size=18)\n",
    "\n",
    "ax1.set_ylabel('', size=22)\n",
    "ax1.set_xlabel('Non-diabetic', size=12)\n",
    "ax2.set_xlabel('Diabetic', size=12)\n",
    "ax2.set_ylabel('', size=22)\n",
    "plt.tight_layout()\n",
    "plt.show()"
   ]
  },
  {
   "cell_type": "markdown",
   "metadata": {},
   "source": [
    "**Below, I plot the smoking rates for diabetic and non-diabetic people. It shows that there exists a slightly higher smoking rate among diabetic people.**"
   ]
  },
  {
   "cell_type": "code",
   "execution_count": 229,
   "metadata": {},
   "outputs": [
    {
     "data": {
      "image/png": "[encoded data removed]",
      "text/plain": [
       "<Figure size 800x600 with 2 Axes>"
      ]
     },
     "metadata": {},
     "output_type": "display_data"
    }
   ],
   "source": [
    "diabetes_train['smoke_label'] = 'smoking'\n",
    "diabetes_train.loc[ diabetes_train['smoke'] == 0, 'smoke_label' ] = 'non-smoking'\n",
    "\n",
    "fig, (ax1, ax2) = plt.subplots(nrows=2, figsize=(8, 6))\n",
    "diabetes_train.loc[ diabetes_train['diabetes']==0, : ].groupby('smoke_label').size().plot(kind='pie', autopct=\"%1.1f%%\", textprops={'fontsize': 12},\n",
    "                                  colors=['tomato', 'gold'], ax=ax1)\n",
    "diabetes_train.loc[ diabetes_train['diabetes']==1, : ].groupby('smoke_label').size().plot(kind='pie', autopct=\"%1.1f%%\", textprops={'fontsize': 12},\n",
    "                                 colors=['violet', 'lime'], ax=ax2)\n",
    "fig.suptitle('Smoking rate', size=18)\n",
    "ax1.set_ylabel('', size=22)\n",
    "ax1.set_xlabel('Non-diabetic', size=12)\n",
    "ax2.set_xlabel('Diabetic', size=12)\n",
    "ax2.set_ylabel('', size=22)\n",
    "plt.tight_layout()\n",
    "plt.show()"
   ]
  },
  {
   "cell_type": "code",
   "execution_count": null,
   "metadata": {},
   "outputs": [],
   "source": []
  },
  {
   "cell_type": "markdown",
   "metadata": {},
   "source": [
    "**Below, I plot the cholesterol levels for diabetic and non-diabetic people. It shows that diabetic people tend to have higher cholesterol levels compared with non-diabetic people.**"
   ]
  },
  {
   "cell_type": "code",
   "execution_count": 230,
   "metadata": {},
   "outputs": [
    {
     "data": {
      "image/png": "[encoded data removed]",
      "text/plain": [
       "<Figure size 800x600 with 2 Axes>"
      ]
     },
     "metadata": {},
     "output_type": "display_data"
    }
   ],
   "source": [
    "\n",
    "fig, (ax1, ax2) = plt.subplots(nrows=2, figsize=(8, 6))\n",
    "diabetes_train.loc[ diabetes_train['diabetes']==0, : ].groupby('cholesterol').size().plot(kind='pie', autopct=\"%1.1f%%\", textprops={'fontsize': 12},\n",
    "                                  colors=['tomato', 'gold', 'cyan'], ax=ax1)\n",
    "diabetes_train.loc[ diabetes_train['diabetes']==1, : ].groupby('cholesterol').size().plot(kind='pie', autopct=\"%1.1f%%\", textprops={'fontsize': 12},\n",
    "                                 colors=['violet', 'lime', 'yellow'], ax=ax2)\n",
    "\n",
    "fig.suptitle('Cholesterol level', size=18)\n",
    "ax1.set_ylabel('', size=12)\n",
    "ax1.set_xlabel('Non-diabetic', size=12)\n",
    "ax2.set_xlabel('Diabetic', size=12)\n",
    "ax2.set_ylabel('', size=12)\n",
    "plt.tight_layout()\n",
    "plt.show()"
   ]
  },
  {
   "cell_type": "code",
   "execution_count": null,
   "metadata": {},
   "outputs": [],
   "source": []
  },
  {
   "cell_type": "markdown",
   "metadata": {},
   "source": [
    "**Below, I plot the glucose levels for diabetic and non-diabetic people. It shows that diabetic people tend to have higher glucose levels compared with non-diabetic people.**"
   ]
  },
  {
   "cell_type": "code",
   "execution_count": 231,
   "metadata": {},
   "outputs": [
    {
     "data": {
      "image/png": "[encoded data removed]",
      "text/plain": [
       "<Figure size 800x600 with 2 Axes>"
      ]
     },
     "metadata": {},
     "output_type": "display_data"
    }
   ],
   "source": [
    "\n",
    "fig, (ax1, ax2) = plt.subplots(nrows=2, figsize=(8, 6))\n",
    "diabetes_train.loc[ diabetes_train['diabetes']==0, : ].groupby('gluc').size().plot(kind='pie', autopct=\"%1.1f%%\", textprops={'fontsize': 12},\n",
    "                                  colors=['tomato', 'gold', 'cyan'], ax=ax1)\n",
    "diabetes_train.loc[ diabetes_train['diabetes']==1, : ].groupby('gluc').size().plot(kind='pie', autopct=\"%1.1f%%\", textprops={'fontsize': 12},\n",
    "                                 colors=['violet', 'lime', 'yellow'], ax=ax2)\n",
    "fig.suptitle('Glucose level', size=18)\n",
    "ax1.set_ylabel('', size=12)\n",
    "ax1.set_xlabel('Non-diabetic', size=12)\n",
    "ax2.set_xlabel('Diabetic', size=12)\n",
    "ax2.set_ylabel('', size=12)\n",
    "plt.tight_layout()\n",
    "plt.show()"
   ]
  },
  {
   "cell_type": "code",
   "execution_count": null,
   "metadata": {},
   "outputs": [],
   "source": []
  },
  {
   "cell_type": "markdown",
   "metadata": {},
   "source": [
    "**Here, I create the first machine learning classification model with these transformed features. The first model I tried is the Logistic Regression model**"
   ]
  },
  {
   "cell_type": "code",
   "execution_count": 152,
   "metadata": {},
   "outputs": [],
   "source": [
    "regressor_columns = [ 'smoke', 'alco', 'active', 'press_high', 'press_low', 'chol_low', 'chol_high', 'chol_medium', 'gluc_low',\n",
    "       'gluc_high', 'gluc_medium']\n",
    "target_column = [ 'diabetes' ]"
   ]
  },
  {
   "cell_type": "code",
   "execution_count": 153,
   "metadata": {},
   "outputs": [],
   "source": [
    "diabetes_train_x = diabetes_train[ regressor_columns ]\n",
    "diabetes_train_y = diabetes_train[ target_column ]\n",
    "\n",
    "diabetes_test_x = diabetes_test[ regressor_columns ]\n",
    "diabetes_test_y = diabetes_test[ target_column ]"
   ]
  },
  {
   "cell_type": "code",
   "execution_count": 154,
   "metadata": {},
   "outputs": [
    {
     "name": "stderr",
     "output_type": "stream",
     "text": [
      "C:\\Users\\Tsenguunn\\anaconda3\\lib\\site-packages\\sklearn\\utils\\validation.py:993: DataConversionWarning: A column-vector y was passed when a 1d array was expected. Please change the shape of y to (n_samples, ), for example using ravel().\n",
      "  y = column_or_1d(y, warn=True)\n",
      "C:\\Users\\Tsenguunn\\anaconda3\\lib\\site-packages\\sklearn\\linear_model\\_logistic.py:814: ConvergenceWarning: lbfgs failed to converge (status=1):\n",
      "STOP: TOTAL NO. of ITERATIONS REACHED LIMIT.\n",
      "\n",
      "Increase the number of iterations (max_iter) or scale the data as shown in:\n",
      "    https://scikit-learn.org/stable/modules/preprocessing.html\n",
      "Please also refer to the documentation for alternative solver options:\n",
      "    https://scikit-learn.org/stable/modules/linear_model.html#logistic-regression\n",
      "  n_iter_i = _check_optimize_result(\n"
     ]
    }
   ],
   "source": [
    "clf_logistic = LogisticRegression(random_state=10).fit( diabetes_train_x, diabetes_train_y )\n",
    "\n",
    "diabetes_test_pred = clf_logistic.predict( diabetes_test_x )"
   ]
  },
  {
   "cell_type": "markdown",
   "metadata": {},
   "source": [
    "**Then, I evaluated the accuracy of this model. The accuracy was 89.05%. Essentially, this model classified correctly 89% of time on the test data.**"
   ]
  },
  {
   "cell_type": "code",
   "execution_count": 155,
   "metadata": {},
   "outputs": [
    {
     "data": {
      "text/plain": [
       "0.8905"
      ]
     },
     "execution_count": 155,
     "metadata": {},
     "output_type": "execute_result"
    }
   ],
   "source": [
    "from sklearn.metrics import accuracy_score\n",
    "\n",
    "accuracy_score( diabetes_test_pred, diabetes_test_y )"
   ]
  },
  {
   "cell_type": "markdown",
   "metadata": {},
   "source": [
    "**Then, I used the Random Forest Classifier model. The accuracy was the same as the Logistic Regression model.**"
   ]
  },
  {
   "cell_type": "code",
   "execution_count": 157,
   "metadata": {},
   "outputs": [
    {
     "name": "stderr",
     "output_type": "stream",
     "text": [
      "C:\\Users\\Tsenguunn\\AppData\\Local\\Temp\\ipykernel_562728\\2858469456.py:3: DataConversionWarning: A column-vector y was passed when a 1d array was expected. Please change the shape of y to (n_samples,), for example using ravel().\n",
      "  clf_RF = RandomForestClassifier(max_depth=12, random_state=0).fit( diabetes_train_x, diabetes_train_y )\n"
     ]
    },
    {
     "data": {
      "text/plain": [
       "0.8893"
      ]
     },
     "execution_count": 157,
     "metadata": {},
     "output_type": "execute_result"
    }
   ],
   "source": [
    "from sklearn.ensemble import RandomForestClassifier\n",
    "\n",
    "clf_RF = RandomForestClassifier(max_depth=12, random_state=0).fit( diabetes_train_x, diabetes_train_y )\n",
    "diabetes_test_pred_rf = clf_RF.predict( diabetes_test_x )\n",
    "\n",
    "accuracy_score( diabetes_test_pred_rf, diabetes_test_y )"
   ]
  },
  {
   "cell_type": "code",
   "execution_count": null,
   "metadata": {},
   "outputs": [],
   "source": []
  },
  {
   "cell_type": "markdown",
   "metadata": {},
   "source": [
    "**Next, I merged the dataset, which contains the information on people's age, height, weight, and gender, into the main table.**"
   ]
  },
  {
   "cell_type": "code",
   "execution_count": 158,
   "metadata": {},
   "outputs": [
    {
     "data": {
      "text/html": [
       "<div>\n",
       "<style scoped>\n",
       "    .dataframe tbody tr th:only-of-type {\n",
       "        vertical-align: middle;\n",
       "    }\n",
       "\n",
       "    .dataframe tbody tr th {\n",
       "        vertical-align: top;\n",
       "    }\n",
       "\n",
       "    .dataframe thead th {\n",
       "        text-align: right;\n",
       "    }\n",
       "</style>\n",
       "<table border=\"1\" class=\"dataframe\">\n",
       "  <thead>\n",
       "    <tr style=\"text-align: right;\">\n",
       "      <th></th>\n",
       "      <th>id</th>\n",
       "      <th>age</th>\n",
       "      <th>height</th>\n",
       "      <th>weight</th>\n",
       "      <th>gender</th>\n",
       "    </tr>\n",
       "  </thead>\n",
       "  <tbody>\n",
       "    <tr>\n",
       "      <th>0</th>\n",
       "      <td>0</td>\n",
       "      <td>18393</td>\n",
       "      <td>168</td>\n",
       "      <td>62.0</td>\n",
       "      <td>female</td>\n",
       "    </tr>\n",
       "    <tr>\n",
       "      <th>1</th>\n",
       "      <td>1</td>\n",
       "      <td>20228</td>\n",
       "      <td>156</td>\n",
       "      <td>85.0</td>\n",
       "      <td>m</td>\n",
       "    </tr>\n",
       "    <tr>\n",
       "      <th>2</th>\n",
       "      <td>2</td>\n",
       "      <td>18857</td>\n",
       "      <td>165</td>\n",
       "      <td>64.0</td>\n",
       "      <td>m</td>\n",
       "    </tr>\n",
       "    <tr>\n",
       "      <th>3</th>\n",
       "      <td>3</td>\n",
       "      <td>48</td>\n",
       "      <td>169</td>\n",
       "      <td>82.0</td>\n",
       "      <td>female</td>\n",
       "    </tr>\n",
       "    <tr>\n",
       "      <th>4</th>\n",
       "      <td>4</td>\n",
       "      <td>47</td>\n",
       "      <td>156</td>\n",
       "      <td>56.0</td>\n",
       "      <td>m</td>\n",
       "    </tr>\n",
       "  </tbody>\n",
       "</table>\n",
       "</div>"
      ],
      "text/plain": [
       "   id    age  height  weight  gender\n",
       "0   0  18393     168    62.0  female\n",
       "1   1  20228     156    85.0       m\n",
       "2   2  18857     165    64.0       m\n",
       "3   3     48     169    82.0  female\n",
       "4   4     47     156    56.0       m"
      ]
     },
     "execution_count": 158,
     "metadata": {},
     "output_type": "execute_result"
    }
   ],
   "source": [
    "diabetes_info_train = pd.read_csv( \"C:/Users/Tsenguunn/Documents/Toptal/diabetes_train_info.csv\", sep=\",\" )\n",
    "\n",
    "diabetes_info_train.head() "
   ]
  },
  {
   "cell_type": "markdown",
   "metadata": {},
   "source": [
    "**Below, we can see that gender has non-consistent labels. I cleaned this non-consistency, and labelled female as f and male as m.**"
   ]
  },
  {
   "cell_type": "code",
   "execution_count": 159,
   "metadata": {},
   "outputs": [
    {
     "data": {
      "text/plain": [
       "array(['female', 'm', 'f', 'male'], dtype=object)"
      ]
     },
     "execution_count": 159,
     "metadata": {},
     "output_type": "execute_result"
    }
   ],
   "source": [
    "diabetes_info_train['gender'].unique()"
   ]
  },
  {
   "cell_type": "code",
   "execution_count": 160,
   "metadata": {},
   "outputs": [],
   "source": [
    "diabetes_info_train.loc[ diabetes_info_train['gender']=='female', 'gender' ] = 'f'\n",
    "diabetes_info_train.loc[ diabetes_info_train['gender']=='male', 'gender' ] = 'm'\n",
    "\n",
    "gender_uniq_vals = diabetes_info_train['gender'].unique()\n",
    "diabetes_info_train = one_hot_encoder( diabetes_info_train, \"gender\", gender_uniq_vals )\n",
    "\n",
    "diabetes_train = diabetes_train.merge( diabetes_info_train, on=['id'], how='left' )\n"
   ]
  },
  {
   "cell_type": "markdown",
   "metadata": {},
   "source": [
    "**I conducted the same cleaning for the test data and merged it into the main test dataframe.**"
   ]
  },
  {
   "cell_type": "code",
   "execution_count": 161,
   "metadata": {},
   "outputs": [],
   "source": [
    "diabetes_info_test = pd.read_csv( \"C:/Users/Tsenguunn/Documents/Toptal/diabetes_test_info.csv\", sep=\",\" )\n",
    "\n",
    "diabetes_info_test.loc[ diabetes_info_test['gender']=='female', 'gender' ] = 'f'\n",
    "diabetes_info_test.loc[ diabetes_info_test['gender']=='male', 'gender' ] = 'm'\n",
    "\n",
    "diabetes_info_test = one_hot_encoder( diabetes_info_test, \"gender\", gender_uniq_vals )\n",
    "diabetes_test = diabetes_test.merge( diabetes_info_test, on=['id'], how='left' )\n"
   ]
  },
  {
   "cell_type": "code",
   "execution_count": 162,
   "metadata": {},
   "outputs": [
    {
     "data": {
      "text/plain": [
       "Index(['id', 'cholesterol', 'gluc', 'smoke', 'alco', 'active', 'pressure',\n",
       "       'diabetes', 'chol_low', 'chol_high', 'chol_medium', 'gluc_low',\n",
       "       'gluc_high', 'gluc_medium', 'press_high', 'press_low', 'age', 'height',\n",
       "       'weight', 'gender', 'gender_f', 'gender_m'],\n",
       "      dtype='object')"
      ]
     },
     "execution_count": 162,
     "metadata": {},
     "output_type": "execute_result"
    }
   ],
   "source": [
    "diabetes_test.columns"
   ]
  },
  {
   "cell_type": "code",
   "execution_count": null,
   "metadata": {},
   "outputs": [],
   "source": []
  },
  {
   "cell_type": "markdown",
   "metadata": {},
   "source": [
    "**Then, I created another model by adding height and gender as extra regressors.**"
   ]
  },
  {
   "cell_type": "code",
   "execution_count": 163,
   "metadata": {},
   "outputs": [],
   "source": [
    "regressor_columns = [ 'smoke', 'alco', 'active', 'press_high', 'press_low', 'chol_low', 'chol_high', 'chol_medium', 'gluc_low',\n",
    "       'gluc_high', 'gluc_medium', 'height', 'gender_f', 'gender_m']\n",
    "\n",
    "target_column = [ 'diabetes' ]"
   ]
  },
  {
   "cell_type": "code",
   "execution_count": 164,
   "metadata": {},
   "outputs": [],
   "source": [
    "#diabetes_train_temp = diabetes_train[ regressor_columns + target_column ].dropna()\n",
    "#diabetes_train_temp = diabetes_train\n",
    "\n",
    "diabetes_train_x = diabetes_train[ regressor_columns ]\n",
    "diabetes_train_y = diabetes_train[ target_column ]\n",
    "\n",
    "diabetes_test_x = diabetes_test[ regressor_columns ]\n",
    "diabetes_test_y = diabetes_test[ target_column ]"
   ]
  },
  {
   "cell_type": "markdown",
   "metadata": {},
   "source": [
    "**Here, I use the Logistic Regression model first for this case with more regressors.**"
   ]
  },
  {
   "cell_type": "code",
   "execution_count": 165,
   "metadata": {},
   "outputs": [
    {
     "name": "stderr",
     "output_type": "stream",
     "text": [
      "C:\\Users\\Tsenguunn\\anaconda3\\lib\\site-packages\\sklearn\\utils\\validation.py:993: DataConversionWarning: A column-vector y was passed when a 1d array was expected. Please change the shape of y to (n_samples, ), for example using ravel().\n",
      "  y = column_or_1d(y, warn=True)\n",
      "C:\\Users\\Tsenguunn\\anaconda3\\lib\\site-packages\\sklearn\\linear_model\\_logistic.py:814: ConvergenceWarning: lbfgs failed to converge (status=1):\n",
      "STOP: TOTAL NO. of ITERATIONS REACHED LIMIT.\n",
      "\n",
      "Increase the number of iterations (max_iter) or scale the data as shown in:\n",
      "    https://scikit-learn.org/stable/modules/preprocessing.html\n",
      "Please also refer to the documentation for alternative solver options:\n",
      "    https://scikit-learn.org/stable/modules/linear_model.html#logistic-regression\n",
      "  n_iter_i = _check_optimize_result(\n"
     ]
    },
    {
     "data": {
      "text/plain": [
       "0.9191"
      ]
     },
     "execution_count": 165,
     "metadata": {},
     "output_type": "execute_result"
    }
   ],
   "source": [
    "clf_logistic = LogisticRegression(random_state=10).fit( diabetes_train_x, diabetes_train_y )\n",
    "\n",
    "diabetes_test_pred = clf_logistic.predict( diabetes_test_x )\n",
    "\n",
    "from sklearn.metrics import accuracy_score\n",
    "\n",
    "accuracy_score( diabetes_test_pred, diabetes_test_y )"
   ]
  },
  {
   "cell_type": "markdown",
   "metadata": {},
   "source": [
    "**Then, I used the Random Forest Classifier model. Both models performed around 91.9% of accuracy on the test data. We can see that adding height and gender as extra regressors improved the accuracy from 89% to 92%.**"
   ]
  },
  {
   "cell_type": "code",
   "execution_count": 166,
   "metadata": {},
   "outputs": [
    {
     "name": "stderr",
     "output_type": "stream",
     "text": [
      "C:\\Users\\Tsenguunn\\AppData\\Local\\Temp\\ipykernel_562728\\2413099059.py:3: DataConversionWarning: A column-vector y was passed when a 1d array was expected. Please change the shape of y to (n_samples,), for example using ravel().\n",
      "  clf_RF = RandomForestClassifier(max_depth=12, random_state=0).fit( diabetes_train_x, diabetes_train_y )\n"
     ]
    },
    {
     "data": {
      "text/plain": [
       "0.9185"
      ]
     },
     "execution_count": 166,
     "metadata": {},
     "output_type": "execute_result"
    }
   ],
   "source": [
    "from sklearn.ensemble import RandomForestClassifier\n",
    "\n",
    "clf_RF = RandomForestClassifier(max_depth=12, random_state=0).fit( diabetes_train_x, diabetes_train_y )\n",
    "\n",
    "diabetes_test_pred_rf = clf_RF.predict( diabetes_test_x )\n",
    "\n",
    "accuracy_score( diabetes_test_pred_rf, diabetes_test_y )"
   ]
  },
  {
   "cell_type": "code",
   "execution_count": null,
   "metadata": {},
   "outputs": [],
   "source": []
  },
  {
   "cell_type": "markdown",
   "metadata": {},
   "source": [
    "**Below, we can see that many age values have very high numbers. This signals that some age information might be added in terms of days and some other age information might be added in terms of years. I clean this inconsistency by converting age information in terms of days into ages measured in years.**"
   ]
  },
  {
   "cell_type": "code",
   "execution_count": 167,
   "metadata": {},
   "outputs": [
    {
     "data": {
      "text/plain": [
       "count    60000.000000\n",
       "mean     13604.096283\n",
       "std       9153.754517\n",
       "min         30.000000\n",
       "25%         60.000000\n",
       "50%      18161.000000\n",
       "75%      20573.000000\n",
       "max      23713.000000\n",
       "Name: age, dtype: float64"
      ]
     },
     "execution_count": 167,
     "metadata": {},
     "output_type": "execute_result"
    }
   ],
   "source": [
    "diabetes_train['age'].describe()"
   ]
  },
  {
   "cell_type": "code",
   "execution_count": 168,
   "metadata": {},
   "outputs": [
    {
     "data": {
      "text/html": [
       "<div>\n",
       "<style scoped>\n",
       "    .dataframe tbody tr th:only-of-type {\n",
       "        vertical-align: middle;\n",
       "    }\n",
       "\n",
       "    .dataframe tbody tr th {\n",
       "        vertical-align: top;\n",
       "    }\n",
       "\n",
       "    .dataframe thead th {\n",
       "        text-align: right;\n",
       "    }\n",
       "</style>\n",
       "<table border=\"1\" class=\"dataframe\">\n",
       "  <thead>\n",
       "    <tr style=\"text-align: right;\">\n",
       "      <th></th>\n",
       "      <th>id</th>\n",
       "      <th>cholesterol</th>\n",
       "      <th>gluc</th>\n",
       "      <th>smoke</th>\n",
       "      <th>alco</th>\n",
       "      <th>active</th>\n",
       "      <th>pressure</th>\n",
       "      <th>diabetes</th>\n",
       "      <th>chol_low</th>\n",
       "      <th>chol_high</th>\n",
       "      <th>...</th>\n",
       "      <th>diabetes_label</th>\n",
       "      <th>alco_label</th>\n",
       "      <th>smoke_label</th>\n",
       "      <th>age</th>\n",
       "      <th>height</th>\n",
       "      <th>weight</th>\n",
       "      <th>gender</th>\n",
       "      <th>gender_f</th>\n",
       "      <th>gender_m</th>\n",
       "      <th>age_2</th>\n",
       "    </tr>\n",
       "  </thead>\n",
       "  <tbody>\n",
       "    <tr>\n",
       "      <th>0</th>\n",
       "      <td>56041</td>\n",
       "      <td>low</td>\n",
       "      <td>low</td>\n",
       "      <td>0</td>\n",
       "      <td>0</td>\n",
       "      <td>1</td>\n",
       "      <td>120/80</td>\n",
       "      <td>0</td>\n",
       "      <td>1.0</td>\n",
       "      <td>0.0</td>\n",
       "      <td>...</td>\n",
       "      <td>non-diabetic</td>\n",
       "      <td>alcohol_not_consuming</td>\n",
       "      <td>non-smoking</td>\n",
       "      <td>21443</td>\n",
       "      <td>169</td>\n",
       "      <td>73.0</td>\n",
       "      <td>f</td>\n",
       "      <td>1.0</td>\n",
       "      <td>0.0</td>\n",
       "      <td>58.747945</td>\n",
       "    </tr>\n",
       "    <tr>\n",
       "      <th>1</th>\n",
       "      <td>83393</td>\n",
       "      <td>low</td>\n",
       "      <td>low</td>\n",
       "      <td>0</td>\n",
       "      <td>0</td>\n",
       "      <td>1</td>\n",
       "      <td>120/80</td>\n",
       "      <td>0</td>\n",
       "      <td>1.0</td>\n",
       "      <td>0.0</td>\n",
       "      <td>...</td>\n",
       "      <td>non-diabetic</td>\n",
       "      <td>alcohol_not_consuming</td>\n",
       "      <td>non-smoking</td>\n",
       "      <td>18374</td>\n",
       "      <td>167</td>\n",
       "      <td>58.0</td>\n",
       "      <td>m</td>\n",
       "      <td>0.0</td>\n",
       "      <td>1.0</td>\n",
       "      <td>50.339726</td>\n",
       "    </tr>\n",
       "    <tr>\n",
       "      <th>2</th>\n",
       "      <td>29416</td>\n",
       "      <td>high</td>\n",
       "      <td>high</td>\n",
       "      <td>1</td>\n",
       "      <td>0</td>\n",
       "      <td>0</td>\n",
       "      <td>160/110</td>\n",
       "      <td>1</td>\n",
       "      <td>0.0</td>\n",
       "      <td>1.0</td>\n",
       "      <td>...</td>\n",
       "      <td>diabetic</td>\n",
       "      <td>alcohol_not_consuming</td>\n",
       "      <td>smoking</td>\n",
       "      <td>17592</td>\n",
       "      <td>179</td>\n",
       "      <td>118.0</td>\n",
       "      <td>f</td>\n",
       "      <td>1.0</td>\n",
       "      <td>0.0</td>\n",
       "      <td>48.197260</td>\n",
       "    </tr>\n",
       "    <tr>\n",
       "      <th>3</th>\n",
       "      <td>55191</td>\n",
       "      <td>low</td>\n",
       "      <td>low</td>\n",
       "      <td>0</td>\n",
       "      <td>0</td>\n",
       "      <td>1</td>\n",
       "      <td>100/70</td>\n",
       "      <td>0</td>\n",
       "      <td>1.0</td>\n",
       "      <td>0.0</td>\n",
       "      <td>...</td>\n",
       "      <td>non-diabetic</td>\n",
       "      <td>alcohol_not_consuming</td>\n",
       "      <td>non-smoking</td>\n",
       "      <td>14687</td>\n",
       "      <td>155</td>\n",
       "      <td>86.0</td>\n",
       "      <td>m</td>\n",
       "      <td>0.0</td>\n",
       "      <td>1.0</td>\n",
       "      <td>40.238356</td>\n",
       "    </tr>\n",
       "    <tr>\n",
       "      <th>4</th>\n",
       "      <td>42861</td>\n",
       "      <td>low</td>\n",
       "      <td>low</td>\n",
       "      <td>0</td>\n",
       "      <td>0</td>\n",
       "      <td>1</td>\n",
       "      <td>130/80</td>\n",
       "      <td>0</td>\n",
       "      <td>1.0</td>\n",
       "      <td>0.0</td>\n",
       "      <td>...</td>\n",
       "      <td>non-diabetic</td>\n",
       "      <td>alcohol_not_consuming</td>\n",
       "      <td>non-smoking</td>\n",
       "      <td>64</td>\n",
       "      <td>165</td>\n",
       "      <td>65.0</td>\n",
       "      <td>m</td>\n",
       "      <td>0.0</td>\n",
       "      <td>1.0</td>\n",
       "      <td>64.000000</td>\n",
       "    </tr>\n",
       "  </tbody>\n",
       "</table>\n",
       "<p>5 rows × 26 columns</p>\n",
       "</div>"
      ],
      "text/plain": [
       "      id cholesterol  gluc  smoke  alco  active pressure  diabetes  chol_low  \\\n",
       "0  56041         low   low      0     0       1   120/80         0       1.0   \n",
       "1  83393         low   low      0     0       1   120/80         0       1.0   \n",
       "2  29416        high  high      1     0       0  160/110         1       0.0   \n",
       "3  55191         low   low      0     0       1   100/70         0       1.0   \n",
       "4  42861         low   low      0     0       1   130/80         0       1.0   \n",
       "\n",
       "   chol_high  ...  diabetes_label             alco_label  smoke_label    age  \\\n",
       "0        0.0  ...    non-diabetic  alcohol_not_consuming  non-smoking  21443   \n",
       "1        0.0  ...    non-diabetic  alcohol_not_consuming  non-smoking  18374   \n",
       "2        1.0  ...        diabetic  alcohol_not_consuming      smoking  17592   \n",
       "3        0.0  ...    non-diabetic  alcohol_not_consuming  non-smoking  14687   \n",
       "4        0.0  ...    non-diabetic  alcohol_not_consuming  non-smoking     64   \n",
       "\n",
       "   height  weight gender gender_f gender_m      age_2  \n",
       "0     169    73.0      f      1.0      0.0  58.747945  \n",
       "1     167    58.0      m      0.0      1.0  50.339726  \n",
       "2     179   118.0      f      1.0      0.0  48.197260  \n",
       "3     155    86.0      m      0.0      1.0  40.238356  \n",
       "4     165    65.0      m      0.0      1.0  64.000000  \n",
       "\n",
       "[5 rows x 26 columns]"
      ]
     },
     "execution_count": 168,
     "metadata": {},
     "output_type": "execute_result"
    }
   ],
   "source": [
    "diabetes_train['age_2'] = diabetes_train['age']\n",
    "\n",
    "diabetes_train.loc[ diabetes_train['age'] > 150, 'age_2'] = diabetes_train['age'] / 365\n",
    "\n",
    "import math\n",
    "\n",
    "diabetes_train['age'] = diabetes_train['age'].apply( lambda x: math.floor( x ) )\n",
    "\n",
    "diabetes_train.head() "
   ]
  },
  {
   "cell_type": "code",
   "execution_count": null,
   "metadata": {},
   "outputs": [],
   "source": []
  },
  {
   "cell_type": "code",
   "execution_count": 169,
   "metadata": {},
   "outputs": [
    {
     "data": {
      "text/html": [
       "<div>\n",
       "<style scoped>\n",
       "    .dataframe tbody tr th:only-of-type {\n",
       "        vertical-align: middle;\n",
       "    }\n",
       "\n",
       "    .dataframe tbody tr th {\n",
       "        vertical-align: top;\n",
       "    }\n",
       "\n",
       "    .dataframe thead th {\n",
       "        text-align: right;\n",
       "    }\n",
       "</style>\n",
       "<table border=\"1\" class=\"dataframe\">\n",
       "  <thead>\n",
       "    <tr style=\"text-align: right;\">\n",
       "      <th></th>\n",
       "      <th>id</th>\n",
       "      <th>cholesterol</th>\n",
       "      <th>gluc</th>\n",
       "      <th>smoke</th>\n",
       "      <th>alco</th>\n",
       "      <th>active</th>\n",
       "      <th>pressure</th>\n",
       "      <th>diabetes</th>\n",
       "      <th>chol_low</th>\n",
       "      <th>chol_high</th>\n",
       "      <th>...</th>\n",
       "      <th>gluc_medium</th>\n",
       "      <th>press_high</th>\n",
       "      <th>press_low</th>\n",
       "      <th>age</th>\n",
       "      <th>height</th>\n",
       "      <th>weight</th>\n",
       "      <th>gender</th>\n",
       "      <th>gender_f</th>\n",
       "      <th>gender_m</th>\n",
       "      <th>age_2</th>\n",
       "    </tr>\n",
       "  </thead>\n",
       "  <tbody>\n",
       "    <tr>\n",
       "      <th>0</th>\n",
       "      <td>93552</td>\n",
       "      <td>low</td>\n",
       "      <td>low</td>\n",
       "      <td>0</td>\n",
       "      <td>0</td>\n",
       "      <td>1</td>\n",
       "      <td>110/70</td>\n",
       "      <td>0</td>\n",
       "      <td>1.0</td>\n",
       "      <td>0.0</td>\n",
       "      <td>...</td>\n",
       "      <td>0.0</td>\n",
       "      <td>110.0</td>\n",
       "      <td>70.0</td>\n",
       "      <td>59</td>\n",
       "      <td>169</td>\n",
       "      <td>72.0</td>\n",
       "      <td>m</td>\n",
       "      <td>0.0</td>\n",
       "      <td>1.0</td>\n",
       "      <td>59.000000</td>\n",
       "    </tr>\n",
       "    <tr>\n",
       "      <th>1</th>\n",
       "      <td>90949</td>\n",
       "      <td>low</td>\n",
       "      <td>low</td>\n",
       "      <td>0</td>\n",
       "      <td>0</td>\n",
       "      <td>1</td>\n",
       "      <td>110/80</td>\n",
       "      <td>0</td>\n",
       "      <td>1.0</td>\n",
       "      <td>0.0</td>\n",
       "      <td>...</td>\n",
       "      <td>0.0</td>\n",
       "      <td>110.0</td>\n",
       "      <td>80.0</td>\n",
       "      <td>19147</td>\n",
       "      <td>167</td>\n",
       "      <td>69.0</td>\n",
       "      <td>m</td>\n",
       "      <td>0.0</td>\n",
       "      <td>1.0</td>\n",
       "      <td>52.457534</td>\n",
       "    </tr>\n",
       "    <tr>\n",
       "      <th>2</th>\n",
       "      <td>94702</td>\n",
       "      <td>high</td>\n",
       "      <td>low</td>\n",
       "      <td>0</td>\n",
       "      <td>0</td>\n",
       "      <td>1</td>\n",
       "      <td>120/80</td>\n",
       "      <td>0</td>\n",
       "      <td>0.0</td>\n",
       "      <td>1.0</td>\n",
       "      <td>...</td>\n",
       "      <td>0.0</td>\n",
       "      <td>120.0</td>\n",
       "      <td>80.0</td>\n",
       "      <td>44</td>\n",
       "      <td>166</td>\n",
       "      <td>72.0</td>\n",
       "      <td>m</td>\n",
       "      <td>0.0</td>\n",
       "      <td>1.0</td>\n",
       "      <td>44.000000</td>\n",
       "    </tr>\n",
       "    <tr>\n",
       "      <th>3</th>\n",
       "      <td>95862</td>\n",
       "      <td>low</td>\n",
       "      <td>low</td>\n",
       "      <td>1</td>\n",
       "      <td>0</td>\n",
       "      <td>1</td>\n",
       "      <td>140/80</td>\n",
       "      <td>0</td>\n",
       "      <td>1.0</td>\n",
       "      <td>0.0</td>\n",
       "      <td>...</td>\n",
       "      <td>0.0</td>\n",
       "      <td>140.0</td>\n",
       "      <td>80.0</td>\n",
       "      <td>20340</td>\n",
       "      <td>163</td>\n",
       "      <td>83.0</td>\n",
       "      <td>f</td>\n",
       "      <td>1.0</td>\n",
       "      <td>0.0</td>\n",
       "      <td>55.726027</td>\n",
       "    </tr>\n",
       "    <tr>\n",
       "      <th>4</th>\n",
       "      <td>91802</td>\n",
       "      <td>low</td>\n",
       "      <td>low</td>\n",
       "      <td>0</td>\n",
       "      <td>0</td>\n",
       "      <td>1</td>\n",
       "      <td>120/80</td>\n",
       "      <td>0</td>\n",
       "      <td>1.0</td>\n",
       "      <td>0.0</td>\n",
       "      <td>...</td>\n",
       "      <td>0.0</td>\n",
       "      <td>120.0</td>\n",
       "      <td>80.0</td>\n",
       "      <td>15883</td>\n",
       "      <td>175</td>\n",
       "      <td>84.0</td>\n",
       "      <td>f</td>\n",
       "      <td>1.0</td>\n",
       "      <td>0.0</td>\n",
       "      <td>43.515068</td>\n",
       "    </tr>\n",
       "  </tbody>\n",
       "</table>\n",
       "<p>5 rows × 23 columns</p>\n",
       "</div>"
      ],
      "text/plain": [
       "      id cholesterol gluc  smoke  alco  active pressure  diabetes  chol_low  \\\n",
       "0  93552         low  low      0     0       1   110/70         0       1.0   \n",
       "1  90949         low  low      0     0       1   110/80         0       1.0   \n",
       "2  94702        high  low      0     0       1   120/80         0       0.0   \n",
       "3  95862         low  low      1     0       1   140/80         0       1.0   \n",
       "4  91802         low  low      0     0       1   120/80         0       1.0   \n",
       "\n",
       "   chol_high  ...  gluc_medium  press_high  press_low    age  height  weight  \\\n",
       "0        0.0  ...          0.0       110.0       70.0     59     169    72.0   \n",
       "1        0.0  ...          0.0       110.0       80.0  19147     167    69.0   \n",
       "2        1.0  ...          0.0       120.0       80.0     44     166    72.0   \n",
       "3        0.0  ...          0.0       140.0       80.0  20340     163    83.0   \n",
       "4        0.0  ...          0.0       120.0       80.0  15883     175    84.0   \n",
       "\n",
       "   gender  gender_f  gender_m      age_2  \n",
       "0       m       0.0       1.0  59.000000  \n",
       "1       m       0.0       1.0  52.457534  \n",
       "2       m       0.0       1.0  44.000000  \n",
       "3       f       1.0       0.0  55.726027  \n",
       "4       f       1.0       0.0  43.515068  \n",
       "\n",
       "[5 rows x 23 columns]"
      ]
     },
     "execution_count": 169,
     "metadata": {},
     "output_type": "execute_result"
    }
   ],
   "source": [
    "diabetes_test['age_2'] = diabetes_test['age']\n",
    "\n",
    "diabetes_test.loc[ diabetes_test['age'] > 150, 'age_2'] = diabetes_test['age'] / 365\n",
    "\n",
    "diabetes_test['age'] = diabetes_test['age'].apply( lambda x: math.floor( x ) )\n",
    "\n",
    "diabetes_test.head() "
   ]
  },
  {
   "cell_type": "markdown",
   "metadata": {},
   "source": [
    "**Next, I add age as an extra regressar to the previous model.**"
   ]
  },
  {
   "cell_type": "code",
   "execution_count": 172,
   "metadata": {},
   "outputs": [],
   "source": [
    "regressor_columns = [ 'smoke', 'alco', 'active', 'press_high', 'press_low', 'chol_low', 'chol_high', 'chol_medium', 'gluc_low',\n",
    "       'gluc_high', 'gluc_medium', 'height', 'gender_f', 'gender_m', 'age_2']\n",
    "\n",
    "target_column = [ 'diabetes' ]"
   ]
  },
  {
   "cell_type": "code",
   "execution_count": 173,
   "metadata": {},
   "outputs": [],
   "source": [
    "diabetes_train_temp = diabetes_train\n",
    "\n",
    "diabetes_train_x = diabetes_train_temp[ regressor_columns ]\n",
    "diabetes_train_y = diabetes_train_temp[ target_column ]\n",
    "\n",
    "diabetes_test_x = diabetes_test[ regressor_columns ]\n",
    "diabetes_test_y = diabetes_test[ target_column ]"
   ]
  },
  {
   "cell_type": "markdown",
   "metadata": {},
   "source": [
    "**First, I used the Logistic Regression to predict the diabetes. The accuracy increased to 92.9%.**"
   ]
  },
  {
   "cell_type": "code",
   "execution_count": 174,
   "metadata": {},
   "outputs": [
    {
     "name": "stderr",
     "output_type": "stream",
     "text": [
      "C:\\Users\\Tsenguunn\\anaconda3\\lib\\site-packages\\sklearn\\utils\\validation.py:993: DataConversionWarning: A column-vector y was passed when a 1d array was expected. Please change the shape of y to (n_samples, ), for example using ravel().\n",
      "  y = column_or_1d(y, warn=True)\n",
      "C:\\Users\\Tsenguunn\\anaconda3\\lib\\site-packages\\sklearn\\linear_model\\_logistic.py:814: ConvergenceWarning: lbfgs failed to converge (status=1):\n",
      "STOP: TOTAL NO. of ITERATIONS REACHED LIMIT.\n",
      "\n",
      "Increase the number of iterations (max_iter) or scale the data as shown in:\n",
      "    https://scikit-learn.org/stable/modules/preprocessing.html\n",
      "Please also refer to the documentation for alternative solver options:\n",
      "    https://scikit-learn.org/stable/modules/linear_model.html#logistic-regression\n",
      "  n_iter_i = _check_optimize_result(\n"
     ]
    },
    {
     "data": {
      "text/plain": [
       "0.9292"
      ]
     },
     "execution_count": 174,
     "metadata": {},
     "output_type": "execute_result"
    }
   ],
   "source": [
    "clf_logistic = LogisticRegression(random_state=10).fit( diabetes_train_x, diabetes_train_y )\n",
    "\n",
    "diabetes_test_pred = clf_logistic.predict( diabetes_test_x )\n",
    "\n",
    "from sklearn.metrics import accuracy_score\n",
    "\n",
    "accuracy_score( diabetes_test_pred, diabetes_test_y )"
   ]
  },
  {
   "cell_type": "markdown",
   "metadata": {},
   "source": [
    "**When I used the Random Forest Classifier, the accuracy increased to 94.3%.**"
   ]
  },
  {
   "cell_type": "code",
   "execution_count": 176,
   "metadata": {},
   "outputs": [
    {
     "name": "stderr",
     "output_type": "stream",
     "text": [
      "C:\\Users\\Tsenguunn\\AppData\\Local\\Temp\\ipykernel_562728\\2413099059.py:3: DataConversionWarning: A column-vector y was passed when a 1d array was expected. Please change the shape of y to (n_samples,), for example using ravel().\n",
      "  clf_RF = RandomForestClassifier(max_depth=12, random_state=0).fit( diabetes_train_x, diabetes_train_y )\n"
     ]
    },
    {
     "data": {
      "text/plain": [
       "0.9432"
      ]
     },
     "execution_count": 176,
     "metadata": {},
     "output_type": "execute_result"
    }
   ],
   "source": [
    "from sklearn.ensemble import RandomForestClassifier\n",
    "\n",
    "clf_RF = RandomForestClassifier(max_depth=12, random_state=0).fit( diabetes_train_x, diabetes_train_y )\n",
    "\n",
    "diabetes_test_pred_rf = clf_RF.predict( diabetes_test_x )\n",
    "\n",
    "accuracy_score( diabetes_test_pred_rf, diabetes_test_y )"
   ]
  },
  {
   "cell_type": "code",
   "execution_count": null,
   "metadata": {},
   "outputs": [],
   "source": []
  },
  {
   "cell_type": "markdown",
   "metadata": {},
   "source": [
    "**Below, I explored the missing values across columns. We can see that the weight column has many missing values. I imputed the missing values for weight using the simple average imputer which impute the missing values as the average of non-missing values.**"
   ]
  },
  {
   "cell_type": "code",
   "execution_count": 181,
   "metadata": {},
   "outputs": [
    {
     "data": {
      "text/plain": [
       "id                   0\n",
       "cholesterol          0\n",
       "gluc                 0\n",
       "smoke                0\n",
       "alco                 0\n",
       "active               0\n",
       "pressure             0\n",
       "diabetes             0\n",
       "chol_low             0\n",
       "chol_high            0\n",
       "chol_medium          0\n",
       "gluc_low             0\n",
       "gluc_high            0\n",
       "gluc_medium          0\n",
       "press_high           0\n",
       "press_low            0\n",
       "diabetes_label       0\n",
       "alco_label           0\n",
       "smoke_label          0\n",
       "age                  0\n",
       "height               0\n",
       "weight            1982\n",
       "gender               0\n",
       "gender_f             0\n",
       "gender_m             0\n",
       "age_2                0\n",
       "dtype: int64"
      ]
     },
     "execution_count": 181,
     "metadata": {},
     "output_type": "execute_result"
    }
   ],
   "source": [
    "diabetes_train.isna().sum()"
   ]
  },
  {
   "cell_type": "code",
   "execution_count": 182,
   "metadata": {},
   "outputs": [],
   "source": [
    "from sklearn.impute import SimpleImputer\n",
    "imp = SimpleImputer(missing_values=np.nan, strategy='mean')\n",
    "\n",
    "imp.fit( diabetes_train[['weight']] )\n",
    "\n",
    "diabetes_train['weight_2']  = imp.transform( diabetes_train[['weight']]  )\n",
    "diabetes_test['weight_2']  = imp.transform( diabetes_test[['weight']]  )"
   ]
  },
  {
   "cell_type": "code",
   "execution_count": 31,
   "metadata": {},
   "outputs": [],
   "source": []
  },
  {
   "cell_type": "markdown",
   "metadata": {},
   "source": [
    "**Then, I added the weight information as an extra regressor to the previous model.**"
   ]
  },
  {
   "cell_type": "code",
   "execution_count": 185,
   "metadata": {},
   "outputs": [],
   "source": [
    "regressor_columns = [ 'smoke', 'alco', 'active', 'press_high', 'press_low', 'chol_low', 'chol_high', 'chol_medium', 'gluc_low',\n",
    "       'gluc_high', 'gluc_medium', 'height', 'gender_f', 'gender_m', 'age_2', 'weight_2']\n",
    "\n",
    "target_column = [ 'diabetes' ]"
   ]
  },
  {
   "cell_type": "code",
   "execution_count": 186,
   "metadata": {},
   "outputs": [],
   "source": [
    "diabetes_train_x = diabetes_train[ regressor_columns ]\n",
    "diabetes_train_y = diabetes_train[ target_column ]\n",
    "\n",
    "diabetes_test_x = diabetes_test[ regressor_columns ]\n",
    "diabetes_test_y = diabetes_test[ target_column ]"
   ]
  },
  {
   "cell_type": "markdown",
   "metadata": {},
   "source": [
    "**I used the Logistic Regression for this case where weight is an extra regressor compared with the previous model. The accuracy increased to 96.5%.**"
   ]
  },
  {
   "cell_type": "code",
   "execution_count": 188,
   "metadata": {},
   "outputs": [
    {
     "name": "stderr",
     "output_type": "stream",
     "text": [
      "C:\\Users\\Tsenguunn\\anaconda3\\lib\\site-packages\\sklearn\\utils\\validation.py:993: DataConversionWarning: A column-vector y was passed when a 1d array was expected. Please change the shape of y to (n_samples, ), for example using ravel().\n",
      "  y = column_or_1d(y, warn=True)\n",
      "C:\\Users\\Tsenguunn\\anaconda3\\lib\\site-packages\\sklearn\\linear_model\\_logistic.py:814: ConvergenceWarning: lbfgs failed to converge (status=1):\n",
      "STOP: TOTAL NO. of ITERATIONS REACHED LIMIT.\n",
      "\n",
      "Increase the number of iterations (max_iter) or scale the data as shown in:\n",
      "    https://scikit-learn.org/stable/modules/preprocessing.html\n",
      "Please also refer to the documentation for alternative solver options:\n",
      "    https://scikit-learn.org/stable/modules/linear_model.html#logistic-regression\n",
      "  n_iter_i = _check_optimize_result(\n"
     ]
    },
    {
     "data": {
      "text/plain": [
       "0.965"
      ]
     },
     "execution_count": 188,
     "metadata": {},
     "output_type": "execute_result"
    }
   ],
   "source": [
    "clf_logistic = LogisticRegression(random_state=10).fit( diabetes_train_x, diabetes_train_y )\n",
    "\n",
    "diabetes_test_pred = clf_logistic.predict( diabetes_test_x )\n",
    "\n",
    "from sklearn.metrics import accuracy_score\n",
    "\n",
    "accuracy_score( diabetes_test_pred, diabetes_test_y )"
   ]
  },
  {
   "cell_type": "markdown",
   "metadata": {},
   "source": [
    "**When I used the Random Forest Classifier, the accuracy increased to 98.88%.**"
   ]
  },
  {
   "cell_type": "code",
   "execution_count": 190,
   "metadata": {},
   "outputs": [
    {
     "name": "stderr",
     "output_type": "stream",
     "text": [
      "C:\\Users\\Tsenguunn\\AppData\\Local\\Temp\\ipykernel_562728\\711970718.py:3: DataConversionWarning: A column-vector y was passed when a 1d array was expected. Please change the shape of y to (n_samples,), for example using ravel().\n",
      "  clf_RF = RandomForestClassifier(max_depth=19, random_state=0).fit( diabetes_train_x, diabetes_train_y )\n"
     ]
    },
    {
     "data": {
      "text/plain": [
       "0.9888"
      ]
     },
     "execution_count": 190,
     "metadata": {},
     "output_type": "execute_result"
    }
   ],
   "source": [
    "from sklearn.ensemble import RandomForestClassifier\n",
    "\n",
    "clf_RF = RandomForestClassifier(max_depth=19, random_state=0).fit( diabetes_train_x, diabetes_train_y )\n",
    "\n",
    "diabetes_test_pred_rf = clf_RF.predict( diabetes_test_x )\n",
    "\n",
    "accuracy_score( diabetes_test_pred_rf, diabetes_test_y )"
   ]
  },
  {
   "cell_type": "code",
   "execution_count": null,
   "metadata": {},
   "outputs": [],
   "source": []
  },
  {
   "cell_type": "markdown",
   "metadata": {},
   "source": [
    "**Finally, I used the Xgboost Classifier to predict the diabetes.**"
   ]
  },
  {
   "cell_type": "code",
   "execution_count": 191,
   "metadata": {},
   "outputs": [],
   "source": [
    "import xgboost as xgb"
   ]
  },
  {
   "cell_type": "code",
   "execution_count": 194,
   "metadata": {},
   "outputs": [
    {
     "data": {
      "text/plain": [
       "XGBClassifier(base_score=0.5, booster='gbtree', callbacks=None,\n",
       "              colsample_bylevel=1, colsample_bynode=1, colsample_bytree=1,\n",
       "              early_stopping_rounds=None, enable_categorical=False,\n",
       "              eval_metric=None, feature_types=None, gamma=0, gpu_id=-1,\n",
       "              grow_policy='depthwise', importance_type=None,\n",
       "              interaction_constraints='', learning_rate=0.1, max_bin=256,\n",
       "              max_cat_threshold=64, max_cat_to_onehot=4, max_delta_step=0,\n",
       "              max_depth=22, max_leaves=0, min_child_weight=1, missing=nan,\n",
       "              monotone_constraints='()', n_estimators=150, n_jobs=0,\n",
       "              num_parallel_tree=4, predictor='auto', random_state=0, ...)"
      ]
     },
     "execution_count": 194,
     "metadata": {},
     "output_type": "execute_result"
    }
   ],
   "source": [
    "regressor_columns = [ 'smoke', 'alco', 'active', 'press_high', 'press_low', 'chol_low', 'chol_high', 'chol_medium', 'gluc_low',\n",
    "       'gluc_high', 'height', 'gender_f', 'gender_m', 'age_2', 'weight_2']\n",
    "\n",
    "target_column = [ 'diabetes' ]\n",
    "\n",
    "diabetes_train_x = diabetes_train[ regressor_columns ]\n",
    "diabetes_train_y = diabetes_train[ target_column ]\n",
    "\n",
    "diabetes_test_x = diabetes_test[ regressor_columns ]\n",
    "diabetes_test_y = diabetes_test[ target_column ]\n",
    "\n",
    "model = xgb.XGBClassifier(num_parallel_tree=4, max_depth=22, n_estimators=150, learning_rate=0.1)\n",
    "\n",
    "\n",
    "model.fit( diabetes_train_x, diabetes_train_y )"
   ]
  },
  {
   "cell_type": "markdown",
   "metadata": {},
   "source": [
    "**The accuracy of this Xgboost model was 99.12%. This means that with all these data cleaning processes, we were able to create more than 99% accurate model for predicting diabetes based on smoking and drinking habits, high and low blood pressures, glucose and cholesterol levels, age, gender, height, and weight.**"
   ]
  },
  {
   "cell_type": "code",
   "execution_count": 195,
   "metadata": {},
   "outputs": [
    {
     "data": {
      "text/plain": [
       "0.9912"
      ]
     },
     "execution_count": 195,
     "metadata": {},
     "output_type": "execute_result"
    }
   ],
   "source": [
    "diabetes_test_pred = model.predict( diabetes_test_x )\n",
    "\n",
    "from sklearn.metrics import accuracy_score\n",
    "\n",
    "accuracy_score( diabetes_test_pred, diabetes_test_y )"
   ]
  },
  {
   "cell_type": "code",
   "execution_count": null,
   "metadata": {},
   "outputs": [],
   "source": []
  },
  {
   "cell_type": "markdown",
   "metadata": {},
   "source": [
    "**Below, I plotted the feature importances for the regressors. We can see that the glucose level is a greatly informative feature for predicting diabetes. Furthermore, active physical activity, gender, cholesterol level, low blood pressure, weight, and age can provide the useful information for predicting diabetes.**"
   ]
  },
  {
   "cell_type": "code",
   "execution_count": 201,
   "metadata": {},
   "outputs": [
    {
     "data": {
      "text/plain": [
       "Text(0.5, 0, 'Xgboost Feature Importance')"
      ]
     },
     "execution_count": 201,
     "metadata": {},
     "output_type": "execute_result"
    },
    {
     "data": {
      "image/png": "[encoded data removed]",
      "text/plain": [
       "<Figure size 640x480 with 1 Axes>"
      ]
     },
     "metadata": {},
     "output_type": "display_data"
    }
   ],
   "source": [
    "sorted_idx = model.feature_importances_.argsort()\n",
    "\n",
    "plt.title(\"Feature importances from the Xgboost classifier model\")\n",
    "plt.barh(np.array(regressor_columns)[sorted_idx], model.feature_importances_[sorted_idx])\n",
    "plt.xlabel(\"Xgboost Feature Importance\")"
   ]
  },
  {
   "cell_type": "code",
   "execution_count": null,
   "metadata": {},
   "outputs": [],
   "source": []
  }
 ],
 "metadata": {
  "kernelspec": {
   "display_name": "Python 3 (ipykernel)",
   "language": "python",
   "name": "python3"
  },
  "language_info": {
   "codemirror_mode": {
    "name": "ipython",
    "version": 3
   },
   "file_extension": ".py",
   "mimetype": "text/x-python",
   "name": "python",
   "nbconvert_exporter": "python",
   "pygments_lexer": "ipython3",
   "version": "3.9.13"
  }
 },
 "nbformat": 4,
 "nbformat_minor": 2
}
